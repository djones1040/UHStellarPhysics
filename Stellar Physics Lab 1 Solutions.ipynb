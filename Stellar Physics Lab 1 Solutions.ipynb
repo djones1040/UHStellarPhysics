{
 "cells": [
  {
   "cell_type": "markdown",
   "id": "76201f25",
   "metadata": {},
   "source": [
    "## Solutions for Stellar Physics Lab 1"
   ]
  },
  {
   "cell_type": "code",
   "execution_count": 1,
   "id": "c4b95238",
   "metadata": {},
   "outputs": [
    {
     "name": "stderr",
     "output_type": "stream",
     "text": [
      "<frozen importlib._bootstrap>:228: RuntimeWarning: scipy._lib.messagestream.MessageStream size changed, may indicate binary incompatibility. Expected 56 from C header, got 64 from PyObject\n"
     ]
    }
   ],
   "source": [
    "## preliminaries\n",
    "from astroquery.simbad import Simbad\n",
    "from astroquery.ipac.irsa import Irsa\n",
    "from astropy.coordinates import SkyCoord\n",
    "import astropy.units as u\n",
    "import matplotlib.pyplot as plt\n",
    "import numpy as np\n",
    "from scipy.optimize import minimize, least_squares\n",
    "from scipy.integrate import quad\n",
    "%matplotlib inline"
   ]
  },
  {
   "cell_type": "markdown",
   "id": "b213b429",
   "metadata": {},
   "source": [
    "### 1) Stellar Photometry\n",
    "I'm going to do this at the command line just as an example in using Python"
   ]
  },
  {
   "cell_type": "code",
   "execution_count": 2,
   "id": "edd58ea9",
   "metadata": {},
   "outputs": [
    {
     "name": "stdout",
     "output_type": "stream",
     "text": [
      "--NOTES--\n",
      "\n",
      "1. The parameter filtername must correspond to an existing filter. Filters include: B,V,R,I,J,K.  They are checked by SIMBAD but not astroquery.simbad\n",
      "\n",
      "2. Fields beginning with rvz display the data as it is in the database. Fields beginning with rv force the display as a radial velocity. Fields beginning with z force the display as a redshift\n",
      "\n",
      "3. For each measurement catalog, the VOTable contains all fields of the first measurement. When applicable, the first measurement is the mean one. \n",
      "\n",
      "Available VOTABLE fields:\n",
      "\n",
      "bibcodelist(y1-y2)\n",
      "biblio\n",
      "cel\n",
      "cl.g\n",
      "coo(opt)\n",
      "coo_bibcode\n",
      "coo_err_angle\n",
      "coo_err_maja\n",
      "coo_err_mina\n",
      "coo_qual\n",
      "coo_wavelength\n",
      "coordinates\n",
      "dec(opt)\n",
      "dec_prec\n",
      "diameter\n",
      "dim\n",
      "dim_angle\n",
      "dim_bibcode\n",
      "dim_incl\n",
      "dim_majaxis\n",
      "dim_minaxis\n",
      "dim_qual\n",
      "dim_wavelength\n",
      "dimensions\n",
      "distance\n",
      "distance_result\n",
      "einstein\n",
      "fe_h\n",
      "flux(filtername)\n",
      "flux_bibcode(filtername)\n",
      "flux_error(filtername)\n",
      "flux_name(filtername)\n",
      "flux_qual(filtername)\n",
      "flux_system(filtername)\n",
      "flux_unit(filtername)\n",
      "fluxdata(filtername)\n",
      "gcrv\n",
      "gen\n",
      "gj\n",
      "hbet\n",
      "hbet1\n",
      "hgam\n",
      "id(opt)\n",
      "ids\n",
      "iras\n",
      "irc\n",
      "iso\n",
      "iue\n",
      "jp11\n",
      "link_bibcode\n",
      "main_id\n",
      "measurements\n",
      "membership\n",
      "mesplx\n",
      "mespm\n",
      "mk\n",
      "morphtype\n",
      "mt\n",
      "mt_bibcode\n",
      "mt_qual\n",
      "otype\n",
      "otype(opt)\n",
      "otypes\n",
      "parallax\n",
      "plx\n",
      "plx_bibcode\n",
      "plx_error\n",
      "plx_prec\n",
      "plx_qual\n",
      "pm\n",
      "pm_bibcode\n",
      "pm_err_angle\n",
      "pm_err_maja\n",
      "pm_err_mina\n",
      "pm_qual\n",
      "pmdec\n",
      "pmdec_prec\n",
      "pmra\n",
      "pmra_prec\n",
      "pos\n",
      "posa\n",
      "propermotions\n",
      "ra(opt)\n",
      "ra_prec\n",
      "rot\n",
      "rv_value\n",
      "rvz_bibcode\n",
      "rvz_error\n",
      "rvz_qual\n",
      "rvz_radvel\n",
      "rvz_type\n",
      "rvz_wavelength\n",
      "sao\n",
      "sp\n",
      "sp_bibcode\n",
      "sp_nature\n",
      "sp_qual\n",
      "sptype\n",
      "td1\n",
      "typed_id\n",
      "ubv\n",
      "uvby\n",
      "uvby1\n",
      "v*\n",
      "velocity\n",
      "xmm\n",
      "z_value\n",
      "For more information on a field:\n",
      "Simbad.get_field_description ('field_name') \n",
      "Currently active VOTABLE fields:\n",
      " ['main_id', 'coordinates']\n"
     ]
    }
   ],
   "source": [
    "### let's get a list of fields for our Simbad query, because we're going to have to add some\n",
    "Simbad.list_votable_fields()"
   ]
  },
  {
   "cell_type": "code",
   "execution_count": 3,
   "id": "fecffb91",
   "metadata": {},
   "outputs": [],
   "source": [
    "### let's add \"fluxes\" (these are actually magnitudes), for some of the \n",
    "### filters that we see for Spica:\n",
    "### http://simbad.u-strasbg.fr/simbad/sim-id?Ident=spica&NbIdent=1&Radius=2&Radius.unit=arcmin&submit=submit+id)\n",
    "customSimbad = Simbad()\n",
    "customSimbad.add_votable_fields('flux(U)','flux(B)','flux(V)','flux(R)',\n",
    "                                'flux(I)','flux(J)','flux(H)','flux(K)',\n",
    "                                'flux(u)','flux(g)','flux(r)','flux(i)',\n",
    "                                'flux(z)')"
   ]
  },
  {
   "cell_type": "markdown",
   "id": "67837de4",
   "metadata": {},
   "source": [
    "### 1.2) Stars to Start With"
   ]
  },
  {
   "cell_type": "code",
   "execution_count": 4,
   "id": "93a80b0e",
   "metadata": {},
   "outputs": [
    {
     "name": "stderr",
     "output_type": "stream",
     "text": [
      "/var/folders/gb/ltvsdtcj74j7xf7pyycyvf7r000g2p/T/ipykernel_53446/908728172.py:10: UserWarning: Warning: converting a masked element to nan.\n",
      "  magnitude_dict[o] += [float(result_table[f\"FLUX_{filt}\"])]\n",
      "/var/folders/gb/ltvsdtcj74j7xf7pyycyvf7r000g2p/T/ipykernel_53446/908728172.py:10: UserWarning: Warning: converting a masked element to nan.\n",
      "  magnitude_dict[o] += [float(result_table[f\"FLUX_{filt}\"])]\n",
      "/var/folders/gb/ltvsdtcj74j7xf7pyycyvf7r000g2p/T/ipykernel_53446/908728172.py:10: UserWarning: Warning: converting a masked element to nan.\n",
      "  magnitude_dict[o] += [float(result_table[f\"FLUX_{filt}\"])]\n"
     ]
    }
   ],
   "source": [
    "object_list = ['Spica','Arcturus','Proxima Centauri']\n",
    "magnitude_dict = {}\n",
    "for o in object_list:\n",
    "    result_table = customSimbad.query_object(o)\n",
    "    magnitude_dict[o] = []\n",
    "    for filt in 'UBVRIJHK':\n",
    "        magnitude_dict[o] += [float(result_table[f\"FLUX_{filt}\"])]\n",
    "        \n",
    "    for filt in 'ugriz':\n",
    "        magnitude_dict[o] += [float(result_table[f\"FLUX_{filt}\"])]"
   ]
  },
  {
   "cell_type": "code",
   "execution_count": 5,
   "id": "58d3be61",
   "metadata": {},
   "outputs": [
    {
     "data": {
      "text/plain": [
       "{'Spica': [-0.20000000298023224,\n",
       "  0.7400000095367432,\n",
       "  0.9700000286102295,\n",
       "  1.059999942779541,\n",
       "  1.2999999523162842,\n",
       "  1.5,\n",
       "  1.5399999618530273,\n",
       "  1.6399999856948853,\n",
       "  nan,\n",
       "  nan,\n",
       "  nan,\n",
       "  nan,\n",
       "  nan],\n",
       " 'Arcturus': [2.4600000381469727,\n",
       "  1.1799999475479126,\n",
       "  -0.05000000074505806,\n",
       "  -1.0299999713897705,\n",
       "  -1.6799999475479126,\n",
       "  -2.252000093460083,\n",
       "  -2.809999942779541,\n",
       "  -2.9110000133514404,\n",
       "  nan,\n",
       "  nan,\n",
       "  nan,\n",
       "  nan,\n",
       "  nan],\n",
       " 'Proxima Centauri': [14.210000038146973,\n",
       "  12.949999809265137,\n",
       "  11.130000114440918,\n",
       "  9.449999809265137,\n",
       "  7.409999847412109,\n",
       "  5.35699987411499,\n",
       "  4.835000038146973,\n",
       "  4.383999824523926,\n",
       "  nan,\n",
       "  nan,\n",
       "  nan,\n",
       "  nan,\n",
       "  nan]}"
      ]
     },
     "execution_count": 5,
     "metadata": {},
     "output_type": "execute_result"
    }
   ],
   "source": [
    "### we've put together a dictionary of mags for each star\n",
    "magnitude_dict"
   ]
  },
  {
   "cell_type": "code",
   "execution_count": 6,
   "id": "2caffb6c",
   "metadata": {},
   "outputs": [
    {
     "data": {
      "text/html": [
       "<div><i>Table length=1</i>\n",
       "<table id=\"table140385897903008\" class=\"table-striped table-bordered table-condensed\">\n",
       "<thead><tr><th>MAIN_ID</th><th>RA</th><th>DEC</th><th>RA_PREC</th><th>DEC_PREC</th><th>COO_ERR_MAJA</th><th>COO_ERR_MINA</th><th>COO_ERR_ANGLE</th><th>COO_QUAL</th><th>COO_WAVELENGTH</th><th>COO_BIBCODE</th><th>FLUX_U</th><th>FLUX_B</th><th>FLUX_V</th><th>FLUX_R</th><th>FLUX_I</th><th>FLUX_J</th><th>FLUX_H</th><th>FLUX_K</th><th>FLUX_u</th><th>FLUX_g</th><th>FLUX_r</th><th>FLUX_i</th><th>FLUX_z</th><th>SCRIPT_NUMBER_ID</th></tr></thead>\n",
       "<thead><tr><th></th><th>&quot;h:m:s&quot;</th><th>&quot;d:m:s&quot;</th><th></th><th></th><th>mas</th><th>mas</th><th>deg</th><th></th><th></th><th></th><th>mag</th><th>mag</th><th>mag</th><th>mag</th><th>mag</th><th>mag</th><th>mag</th><th>mag</th><th>mag</th><th>mag</th><th>mag</th><th>mag</th><th>mag</th><th></th></tr></thead>\n",
       "<thead><tr><th>object</th><th>str13</th><th>str13</th><th>int16</th><th>int16</th><th>float32</th><th>float32</th><th>int16</th><th>str1</th><th>str1</th><th>object</th><th>float32</th><th>float32</th><th>float32</th><th>float32</th><th>float32</th><th>float32</th><th>float32</th><th>float32</th><th>float32</th><th>float32</th><th>float32</th><th>float32</th><th>float32</th><th>int32</th></tr></thead>\n",
       "<tr><td>NAME Proxima Centauri</td><td>14 29 42.9461</td><td>-62 40 46.164</td><td>14</td><td>14</td><td>0.024</td><td>0.034</td><td>90</td><td>A</td><td>O</td><td>2020yCat.1350....0G</td><td>14.21</td><td>12.95</td><td>11.13</td><td>9.45</td><td>7.41</td><td>5.357</td><td>4.835</td><td>4.384</td><td>--</td><td>--</td><td>--</td><td>--</td><td>--</td><td>1</td></tr>\n",
       "</table></div>"
      ],
      "text/plain": [
       "<Table length=1>\n",
       "       MAIN_ID              RA           DEC      RA_PREC DEC_PREC COO_ERR_MAJA ...  FLUX_g  FLUX_r  FLUX_i  FLUX_z SCRIPT_NUMBER_ID\n",
       "                         \"h:m:s\"       \"d:m:s\"                         mas      ...   mag     mag     mag     mag                   \n",
       "        object            str13         str13      int16   int16     float32    ... float32 float32 float32 float32      int32      \n",
       "--------------------- ------------- ------------- ------- -------- ------------ ... ------- ------- ------- ------- ----------------\n",
       "NAME Proxima Centauri 14 29 42.9461 -62 40 46.164      14       14        0.024 ...      --      --      --      --                1"
      ]
     },
     "execution_count": 6,
     "metadata": {},
     "output_type": "execute_result"
    }
   ],
   "source": [
    "## just to show what the results table looks like\n",
    "result_table"
   ]
  },
  {
   "cell_type": "markdown",
   "id": "d4b61147",
   "metadata": {},
   "source": [
    "### 1.3) Interesting Stars to Try\n",
    "First Simbad, then AllWISE"
   ]
  },
  {
   "cell_type": "code",
   "execution_count": 7,
   "id": "c21f3f3c",
   "metadata": {},
   "outputs": [
    {
     "name": "stderr",
     "output_type": "stream",
     "text": [
      "/var/folders/gb/ltvsdtcj74j7xf7pyycyvf7r000g2p/T/ipykernel_53446/3232363679.py:6: UserWarning: Warning: converting a masked element to nan.\n",
      "  magnitude_dict[o] += [float(result_table[f\"FLUX_{filt}\"])]\n",
      "/var/folders/gb/ltvsdtcj74j7xf7pyycyvf7r000g2p/T/ipykernel_53446/3232363679.py:9: UserWarning: Warning: converting a masked element to nan.\n",
      "  magnitude_dict[o] += [float(result_table[f\"FLUX_{filt}\"])]\n",
      "/var/folders/gb/ltvsdtcj74j7xf7pyycyvf7r000g2p/T/ipykernel_53446/3232363679.py:6: UserWarning: Warning: converting a masked element to nan.\n",
      "  magnitude_dict[o] += [float(result_table[f\"FLUX_{filt}\"])]\n",
      "/var/folders/gb/ltvsdtcj74j7xf7pyycyvf7r000g2p/T/ipykernel_53446/3232363679.py:9: UserWarning: Warning: converting a masked element to nan.\n",
      "  magnitude_dict[o] += [float(result_table[f\"FLUX_{filt}\"])]\n",
      "/var/folders/gb/ltvsdtcj74j7xf7pyycyvf7r000g2p/T/ipykernel_53446/3232363679.py:6: UserWarning: Warning: converting a masked element to nan.\n",
      "  magnitude_dict[o] += [float(result_table[f\"FLUX_{filt}\"])]\n"
     ]
    }
   ],
   "source": [
    "object_list = ['BP Tau','V347 Aurigae','3C 273']\n",
    "for o in object_list:\n",
    "    result_table = customSimbad.query_object(o)\n",
    "    magnitude_dict[o] = []\n",
    "    for filt in 'UBVRIJHK':\n",
    "        magnitude_dict[o] += [float(result_table[f\"FLUX_{filt}\"])]\n",
    "        \n",
    "    for filt in 'ugriz':\n",
    "        magnitude_dict[o] += [float(result_table[f\"FLUX_{filt}\"])]\n",
    "        \n",
    "    result_wise = Irsa.query_region(\n",
    "        o, catalog=\"allwise_p3as_psd\", spatial=\"Cone\", selcols=\"ra,dec,w1mpro,w2mpro,w3mpro,w4mpro\")\n",
    "    for filt,colname in zip(['WISE_W1','WISE_W2','WISE_W3','WISE_W4'],\n",
    "                            ['w1mpro','w2mpro','w3mpro','w4mpro']):\n",
    "        magnitude_dict[o] += [float(result_wise[colname][0])]\n",
    "        "
   ]
  },
  {
   "cell_type": "code",
   "execution_count": 8,
   "id": "6bb835f7",
   "metadata": {},
   "outputs": [
    {
     "data": {
      "text/plain": [
       "[nan,\n",
       " 13.130000114440918,\n",
       " 12.119999885559082,\n",
       " 11.890000343322754,\n",
       " nan,\n",
       " 9.097999572753906,\n",
       " 8.220000267028809,\n",
       " 7.736000061035156,\n",
       " nan,\n",
       " 12.649999618530273,\n",
       " 11.569999694824219,\n",
       " 10.979999542236328,\n",
       " nan,\n",
       " 7.113,\n",
       " 6.621,\n",
       " 4.802,\n",
       " 2.702]"
      ]
     },
     "execution_count": 8,
     "metadata": {},
     "output_type": "execute_result"
    }
   ],
   "source": [
    "### let's check that it worked\n",
    "### looks like we'll have to filter out some missing (NaN) values when we analyze\n",
    "magnitude_dict['BP Tau']"
   ]
  },
  {
   "cell_type": "markdown",
   "id": "cb36cba5",
   "metadata": {},
   "source": [
    "### 2) Convert Magnitudes and Plot\n",
    "This step is more difficult than it seems, especially with one main tool (Gemini) currently offline.  You can check your answers for Johnson filters (UBVRI) and 2MASS here:\n",
    "https://irsa.ipac.caltech.edu/data/SPITZER/docs/dataanalysistools/tools/pet/magtojy/\n",
    "For WISE, section 1 here: https://wise2.ipac.caltech.edu/docs/release/allsky/expsup/sec4_4h.html#conv2flux will get you to Jansky units, and then you'll have to convert from there to $W/m^2/\\mu m$."
   ]
  },
  {
   "cell_type": "markdown",
   "id": "2da4ff90",
   "metadata": {},
   "source": [
    "First we're going to convert from Vega to AB magnitudes.  We can compute this ourselves, with some effort, but let's just use the internet: \n",
    "https://www.astronomy.ohio-state.edu/martini.10/usefuldata.html\n",
    "https://wise2.ipac.caltech.edu/docs/release/allsky/expsup/sec4_4h.html\n",
    "\n",
    "We also need effective filter wavelengths.  I got these here (approximate #s are fine for us)\n",
    "https://www.aavso.org/filters\n",
    "https://www.astro.ucla.edu/~wright/WISE/passbands.html"
   ]
  },
  {
   "cell_type": "code",
   "execution_count": 9,
   "id": "2e9eae28",
   "metadata": {},
   "outputs": [],
   "source": [
    "### I like numpy arrays better than lists\n",
    "filter_names = np.array(['U','B','V','R','I','J','H','K','u','g','r','i','z','W1','W2','W3','W4'])\n",
    "vega_to_AB_conv = np.array([0.79,-0.09,0.02,0.21,0.45,0.91,1.39,1.85,0,0,0,0,0,2.699,3.339,5.174,6.620])\n",
    "filter_eff_wavelengths = np.array([0.3663,0.4361,0.5448,0.6407,0.7980,1.2,1.6,2.2,0.3608,0.4671,0.6141,0.7470,0.8922,3.368, 4.618, 12.082,22.194])"
   ]
  },
  {
   "cell_type": "markdown",
   "id": "4d9538f3",
   "metadata": {},
   "source": [
    "Second, we're going to use astropy to get our flux densities"
   ]
  },
  {
   "cell_type": "code",
   "execution_count": 10,
   "id": "35f9db5e",
   "metadata": {},
   "outputs": [
    {
     "data": {
      "image/png": "[encoded data removed]",
      "text/plain": [
       "<Figure size 1008x216 with 3 Axes>"
      ]
     },
     "metadata": {
      "needs_background": "light"
     },
     "output_type": "display_data"
    }
   ],
   "source": [
    "### now let's plot the first three\n",
    "plt.rcParams['figure.figsize'] = (14,3)\n",
    "ax1,ax2,ax3 = plt.subplot(131),plt.subplot(132),plt.subplot(133)\n",
    "for star,ax in zip(['Spica','Arcturus','Proxima Centauri'],[ax1,ax2,ax3]):\n",
    "    flux_densities = []\n",
    "    for m,w,vega_AB in zip(magnitude_dict[star],filter_eff_wavelengths,vega_to_AB_conv):\n",
    "        ABmag = (m + vega_AB)*u.ABmag\n",
    "        lam = w*u.micron\n",
    "        flam = ABmag.to(u.W/u.m**2/u.micron, u.spectral_density(lam))\n",
    "        flux_densities += [flam.value]\n",
    "    ax.plot(filter_eff_wavelengths[:-4],flux_densities,'o-')\n",
    "    ax.set_title(star)\n",
    "    ax.set_xlabel('Wavelength ($\\mu m$)')\n",
    "    ax.set_ylabel('Flux ($W/m^2/\\mu m$)')"
   ]
  },
  {
   "cell_type": "code",
   "execution_count": 11,
   "id": "833a477f",
   "metadata": {},
   "outputs": [
    {
     "data": {
      "image/png": "[encoded data removed]",
      "text/plain": [
       "<Figure size 1008x216 with 3 Axes>"
      ]
     },
     "metadata": {
      "needs_background": "light"
     },
     "output_type": "display_data"
    }
   ],
   "source": [
    "### now the next 3, including WISE\n",
    "### I think some of the mags might be bad, we might need ugriz...\n",
    "plt.rcParams['figure.figsize'] = (14,3)\n",
    "ax1,ax2,ax3 = plt.subplot(131),plt.subplot(132),plt.subplot(133)\n",
    "for star,ax in zip(['BP Tau','V347 Aurigae','3C 273'],[ax1,ax2,ax3]):\n",
    "    flux_densities = []\n",
    "    filt_eff_out = []\n",
    "    for m,w,vega_AB in zip(magnitude_dict[star],filter_eff_wavelengths,vega_to_AB_conv):\n",
    "        if m != m: continue\n",
    "        #if w == 0.6407: continue\n",
    "        #print(m,w)\n",
    "        ABmag = (m + vega_AB)*u.ABmag\n",
    "        lam = w*u.micron\n",
    "        flam = ABmag.to(u.W/u.m**2/u.micron, u.spectral_density(lam))\n",
    "        flux_densities += [flam.value]\n",
    "        filt_eff_out += [w]\n",
    "    ax.plot(filt_eff_out,flux_densities,'o')\n",
    "    ax.set_title(star)\n",
    "    ax.set_xlabel('Wavelength ($\\mu m$)')\n",
    "    ax.set_ylabel('Flux ($W/m^2/\\mu m$)')\n",
    "    ax.set_xlim([0,2])"
   ]
  },
  {
   "cell_type": "markdown",
   "id": "8625050d",
   "metadata": {},
   "source": [
    "Woah, some of this photometry looks bad!  Not good if measurements at the same wavelengths are drastically off.  Let's use Sloan filters alone for the optical wavelengths instead -- be careful, these are in AB mags."
   ]
  },
  {
   "cell_type": "code",
   "execution_count": 12,
   "id": "b9630476",
   "metadata": {},
   "outputs": [
    {
     "data": {
      "image/png": "[encoded data removed]",
      "text/plain": [
       "<Figure size 1008x216 with 3 Axes>"
      ]
     },
     "metadata": {
      "needs_background": "light"
     },
     "output_type": "display_data"
    }
   ],
   "source": [
    "### now the next 3, including WISE\n",
    "### I think some of the mags might be bad, we might need ugriz...\n",
    "plt.rcParams['figure.figsize'] = (14,3)\n",
    "ax1,ax2,ax3 = plt.subplot(131),plt.subplot(132),plt.subplot(133)\n",
    "for star,ax in zip(['BP Tau','V347 Aurigae','3C 273'],[ax1,ax2,ax3]):\n",
    "    flux_densities = []\n",
    "    filt_eff_out = []\n",
    "    for m,w,vega_AB in zip(magnitude_dict[star],filter_eff_wavelengths,vega_to_AB_conv):\n",
    "        #if m != m: continue\n",
    "        #if w == 0.6407: continue\n",
    "        #print(m,w)\n",
    "        ABmag = (m + vega_AB)*u.ABmag\n",
    "        lam = w*u.micron\n",
    "        flam = ABmag.to(u.W/u.m**2/u.micron, u.spectral_density(lam))\n",
    "        flux_densities += [flam.value]\n",
    "        filt_eff_out += [w]\n",
    "    ax.plot(filt_eff_out[5:],flux_densities[5:],'o')\n",
    "    ax.set_title(star)\n",
    "    ax.set_xlabel('Wavelength ($\\mu m$)')\n",
    "    ax.set_ylabel('Flux ($W/m^2/\\mu m$)')\n",
    "    ax.set_xlim([0,5])"
   ]
  },
  {
   "cell_type": "markdown",
   "id": "4924aba6",
   "metadata": {},
   "source": [
    "A little more reasonable!"
   ]
  },
  {
   "cell_type": "markdown",
   "id": "9e09eaee",
   "metadata": {},
   "source": [
    "### 3) Fit Temperature\n",
    "\n",
    "#### 3.1) Fitting SED with a Planck Function\n",
    "The black body equation as a function of wavelength is as follows:\n",
    "\n",
    "$B_{\\lambda}(\\lambda,T) = \\frac{2hc^2}{\\lambda^5} \\frac{1}{e^{hc/(\\lambda k_B T)} - 1}$\n",
    "\n",
    "\n",
    "Let's code this up as a function"
   ]
  },
  {
   "cell_type": "code",
   "execution_count": 13,
   "id": "003f5bb7",
   "metadata": {},
   "outputs": [],
   "source": [
    "_h = 6.626 * 10**(-34)  ## SI units\n",
    "_c = 3e8 ### m/s\n",
    "_kb = 1.3807 * 10**(-23)\n",
    "\n",
    "def b_lambda(lam,T):\n",
    "    lam_m = lam * 1e-6 # micron to m\n",
    "    return 2*_h*_c**2/lam_m**5/(np.exp(_h*_c/(lam_m*_kb*T)) - 1)\n",
    "\n",
    "def b_lam_fitting(x,lam=None,flux=None):\n",
    "    amplitude,T = x\n",
    "    b_model = amplitude*b_lambda(lam,T)\n",
    "    return flux-b_model"
   ]
  },
  {
   "cell_type": "raw",
   "id": "7181f616",
   "metadata": {},
   "source": [
    "For the first three stars:"
   ]
  },
  {
   "cell_type": "code",
   "execution_count": 14,
   "id": "ca3fc131",
   "metadata": {},
   "outputs": [
    {
     "data": {
      "image/png": "[encoded data removed]",
      "text/plain": [
       "<Figure size 1008x216 with 3 Axes>"
      ]
     },
     "metadata": {
      "needs_background": "light"
     },
     "output_type": "display_data"
    }
   ],
   "source": [
    "### iterate over the first three stars and fit the black body function\n",
    "### this fitting isn't great -- we need a good initial guess for the amplitude and sometimes temperature\n",
    "### so I tried some options here\n",
    "plt.rcParams['figure.figsize'] = (14,3)\n",
    "ax1,ax2,ax3 = plt.subplot(131),plt.subplot(132),plt.subplot(133)\n",
    "amplitudes,temps = [],[]\n",
    "for star,ax,amp_guess,temp_guess in zip(\n",
    "        ['Spica','Arcturus','Proxima Centauri'],[ax1,ax2,ax3],[1e-20,1e-21,1e-20],[5000,3500,3000]):\n",
    "\n",
    "    flux_densities = []\n",
    "    wave_eff_out = []\n",
    "    for m,w,vega_AB in zip(magnitude_dict[star],filter_eff_wavelengths,vega_to_AB_conv):\n",
    "        if m != m: continue\n",
    "        ABmag = (m + vega_AB)*u.ABmag\n",
    "        lam = w*u.micron\n",
    "        flam = ABmag.to(u.W/u.m**2/u.micron, u.spectral_density(lam))\n",
    "        flux_densities += [flam.value]\n",
    "        wave_eff_out += [w]\n",
    "    flux_densities,wave_eff_out = np.array(flux_densities),np.array(wave_eff_out)\n",
    "        \n",
    "    result = least_squares(\n",
    "        b_lam_fitting,[amp_guess,temp_guess],\n",
    "        args=(wave_eff_out,flux_densities))\n",
    "    ax.plot(wave_eff_out,flux_densities,'o-')\n",
    "    lam = np.linspace(0.3,2,100)\n",
    "    ax.plot(lam,result.x[0]*b_lambda(lam,result.x[1]))\n",
    "    ax.text(0.9,0.9,f'T = {result.x[1]:.0f} K',ha='right',va='top',transform=ax.transAxes)\n",
    "    amplitudes += [result.x[0]]\n",
    "    temps += [result.x[1]]"
   ]
  },
  {
   "cell_type": "markdown",
   "id": "5f6f38c2",
   "metadata": {},
   "source": [
    "#### 3.2.2\n",
    "Spectral types for these three stars are B1, K1, M5.5.  From https://sites.uni.edu/morgans/astro/course/Notes/section2/spectraltemps.html I expect temperatures of 23,000, 5110, and 3200.  But, these stars are not perfect blackbodies and likely absorption features are biasing our temperature determinations."
   ]
  },
  {
   "cell_type": "markdown",
   "id": "c3141778",
   "metadata": {},
   "source": [
    "Let's try the next three:"
   ]
  },
  {
   "cell_type": "code",
   "execution_count": 15,
   "id": "d6087300",
   "metadata": {},
   "outputs": [
    {
     "data": {
      "image/png": "[encoded data removed]",
      "text/plain": [
       "<Figure size 1296x216 with 3 Axes>"
      ]
     },
     "metadata": {
      "needs_background": "light"
     },
     "output_type": "display_data"
    }
   ],
   "source": [
    "plt.rcParams['figure.figsize'] = (18,3)\n",
    "ax1,ax2,ax3 = plt.subplot(131),plt.subplot(132),plt.subplot(133)\n",
    "#amplitudes,temps = [],[]\n",
    "for star,ax,amp_guess,temp_guess in zip(\n",
    "        ['BP Tau','V347 Aurigae','3C 273'],[ax1,ax2,ax3],[1e-20,1e-21,1e-20],[5000,1800,3000]):\n",
    "\n",
    "    flux_densities = []\n",
    "    wave_eff_out = []\n",
    "    for m,w,vega_AB in zip(magnitude_dict[star][5:],filter_eff_wavelengths[5:],vega_to_AB_conv[5:]):\n",
    "        if m != m: continue\n",
    "        ABmag = (m + vega_AB)*u.ABmag\n",
    "        lam = w*u.micron\n",
    "        flam = ABmag.to(u.W/u.m**2/u.micron, u.spectral_density(lam))\n",
    "        flux_densities += [flam.value]\n",
    "        wave_eff_out += [w]\n",
    "    flux_densities,wave_eff_out = np.array(flux_densities),np.array(wave_eff_out)\n",
    "        \n",
    "    result = least_squares(\n",
    "        b_lam_fitting,[amp_guess,temp_guess],\n",
    "        args=(wave_eff_out,flux_densities))\n",
    "    ax.plot(wave_eff_out,flux_densities,'o')\n",
    "    lam = np.linspace(0.3,20,100)\n",
    "    ax.plot(lam,result.x[0]*b_lambda(lam,result.x[1]))\n",
    "    ax.text(0.9,0.9,f'T = {result.x[1]:.0f} K',ha='right',va='top',transform=ax.transAxes)\n",
    "    amplitudes += [result.x[0]]\n",
    "    temps += [result.x[1]]"
   ]
  },
  {
   "cell_type": "markdown",
   "id": "fda5206e",
   "metadata": {},
   "source": [
    "OK, this looks pretty bad.  We could improve our initial guesses and maybe do a bit better, but also: stars are not perfect black bodies and in fact, 3C 273 is not a star at all!  (it's a quasar)."
   ]
  },
  {
   "cell_type": "markdown",
   "id": "26ce45db",
   "metadata": {},
   "source": [
    "#### 3.2.3\n",
    "Not perfect but pretty well.  Better for blue stars!"
   ]
  },
  {
   "cell_type": "markdown",
   "id": "f9aaf725",
   "metadata": {},
   "source": [
    "### 4) Calculate the Radius of the Stars\n",
    "\n",
    "First we need to get an estimate of the total luminosity.  We can do that by integrating the planck function, including the amplitude offset from 0 -> some large number."
   ]
  },
  {
   "cell_type": "code",
   "execution_count": 16,
   "id": "012faacb",
   "metadata": {},
   "outputs": [
    {
     "name": "stdout",
     "output_type": "stream",
     "text": [
      "Spica\n",
      "luminosity = 2.853e+30 W, 7390.787 solar luminosities\n",
      "radius = 5.886e+09 m, 8.457 solar radii\n",
      "\n",
      "Arcturus\n",
      "luminosity = 8.779e+28 W, 227.446 solar luminosities\n",
      "radius = 2.264e+10 m, 32.530 solar radii\n",
      "\n",
      "Proxima Centauri\n",
      "luminosity = 5.922e+23 W, 0.002 solar luminosities\n",
      "radius = 1.323e+08 m, 0.190 solar radii\n",
      "\n",
      "BP Tau\n",
      "luminosity = 2.199e+26 W, 0.570 solar luminosities\n",
      "radius = 1.632e+09 m, 2.344 solar radii\n",
      "\n",
      "V347 Aurigae\n",
      "luminosity = 4.388e+26 W, 1.137 solar luminosities\n",
      "radius = 7.659e+09 m, 11.004 solar radii\n",
      "\n",
      "3C 273\n",
      "luminosity = 1.663e+39 W, 4309123705634.241 solar luminosities\n",
      "radius = 1.753e+15 m, 2518626.873 solar radii\n",
      "\n"
     ]
    },
    {
     "name": "stderr",
     "output_type": "stream",
     "text": [
      "/var/folders/gb/ltvsdtcj74j7xf7pyycyvf7r000g2p/T/ipykernel_53446/3811477948.py:7: RuntimeWarning: overflow encountered in exp\n",
      "  return 2*_h*_c**2/lam_m**5/(np.exp(_h*_c/(lam_m*_kb*T)) - 1)\n"
     ]
    }
   ],
   "source": [
    "parallaxes = np.array([13.06e-3,88.83e-3,768e-3,7.8494e-3,4.8414e-3]) ## from Simbad, in mas\n",
    "# for the first 5.  a parallax is listed in Simbad but it's **totally wrong**\n",
    "distances = 1/parallaxes * 3.086e16\n",
    "distances = np.append(distances,762.3e6 * 3.086e16) # this last number is using Ned Wright's cosmology calculator given the redshift\n",
    "_sigma = 5.67e-8\n",
    "\n",
    "for star,amp,t,d in zip(['Spica','Arcturus','Proxima Centauri','BP Tau','V347 Aurigae','3C 273'],amplitudes,temps,distances):\n",
    "    blt = lambda x: b_lambda(x,t)\n",
    "    flux = amp*quad(blt,0,20)[0]\n",
    "    lum = 4*np.pi*d**2.*flux\n",
    "    print(star)\n",
    "    print(f\"luminosity = {lum:8.3e} W, {lum/3.86e26:.3f} solar luminosities\")\n",
    "    \n",
    "    radius = np.sqrt(lum/(4*np.pi*_sigma*t**4))\n",
    "    print(f\"radius = {radius:8.3e} m, {radius/6.96e8:.3f} solar radii\")\n",
    "    print(\"\")"
   ]
  },
  {
   "cell_type": "code",
   "execution_count": null,
   "id": "e20a6e42",
   "metadata": {},
   "outputs": [],
   "source": []
  }
 ],
 "metadata": {
  "kernelspec": {
   "display_name": "Python 3 (ipykernel)",
   "language": "python",
   "name": "python3"
  },
  "language_info": {
   "codemirror_mode": {
    "name": "ipython",
    "version": 3
   },
   "file_extension": ".py",
   "mimetype": "text/x-python",
   "name": "python",
   "nbconvert_exporter": "python",
   "pygments_lexer": "ipython3",
   "version": "3.9.12"
  }
 },
 "nbformat": 4,
 "nbformat_minor": 5
}
